{
  "nbformat": 4,
  "nbformat_minor": 0,
  "metadata": {
    "colab": {
      "name": "Hands-on with a Jetson Nano device",
      "provenance": [],
      "collapsed_sections": []
    },
    "kernelspec": {
      "name": "python3",
      "display_name": "Python 3"
    },
    "language_info": {
      "name": "python"
    }
  },
  "cells": [
    {
      "cell_type": "markdown",
      "metadata": {
        "id": "whcQqtSFkBLK"
      },
      "source": [
        "## Hands-on with a Jetson Nano device\n",
        "1. First boot: Do's and Dont's\n",
        "2. Enabling desktop sharing\n",
        "3. Setting up wifi\n",
        "4. Setting up a Notebook server on a remote Jetson\n"
      ]
    },
    {
      "cell_type": "markdown",
      "metadata": {
        "id": "-YEekEYNoF3y"
      },
      "source": [
        "# Official documentation and some notable resources\n",
        "\n",
        "NVIDIA AI Certification\n",
        "Dusty\n",
        "\n",
        "Youtube \n",
        "\n",
        "**BEWARE:** Be extremely careful when handling the device as it becomes hot when running (especially, when executing a GPU or CPU intensive task such as training)."
      ]
    },
    {
      "cell_type": "markdown",
      "metadata": {
        "id": "Cgme-Mynm5-v"
      },
      "source": [
        "# Some general remarks about the setup\n",
        "Jetson Nano is a \"cutting edge\" technology - which means some features lack stability. Bear in mind that the documentation might be insufficient and the described resolutions might not work in your specific configurations.\n",
        "\n",
        "Also, you need to master a whole bunch of different skills to be able deal with any problems that might arise. Currently, this constitutes a barrier to entry.\n",
        "\n",
        "The good news is that all of this is changing very quickly as fixes to common problems, updates to documentation and outside sources (e.g. blog posts, tutorials and Youtube videos) appear almost every day."
      ]
    },
    {
      "cell_type": "markdown",
      "metadata": {
        "id": "w0eCaovwkG88"
      },
      "source": [
        "# Flash the micro disk using Balena Etcher\n"
      ]
    },
    {
      "cell_type": "markdown",
      "metadata": {
        "id": "2r1BReubkHGZ"
      },
      "source": [
        "# Insert the disk and boot the device\n",
        "\n",
        "**Beware:** \n",
        " \n",
        "Jetson Nano developper kit is a sensitive electronic device that requries some protection. To avoid damaging the device, use it on its  cardboard. "
      ]
    },
    {
      "cell_type": "markdown",
      "metadata": {
        "id": "gL7fICkMkHJk"
      },
      "source": [
        "# Setup with a monitor attached vs setup without a monitor (headless mode)\n",
        "\n",
        "\n",
        "1. **Headless mode** When setting it up through Headless mode, you need both the charger (for energy) and the micro-USB cable (for data transfer). \n",
        "2. **Display attached** When setting up the device, you can attach a monitor through HDMI connection. In this case, you can power up the device by micro-USB cable as you will not be using the micro-USB port for data transfer."
      ]
    },
    {
      "cell_type": "markdown",
      "metadata": {
        "id": "35djKhsRkHMl"
      },
      "source": [
        "# Prepare the device for remote access\n"
      ]
    },
    {
      "cell_type": "code",
      "metadata": {
        "id": "iqiFLfnWmkHi"
      },
      "source": [
        "# Start by updating device libaries\n",
        "! sudo apt-get update\n",
        "# You can add \n",
        "! sudo apt-get install nano\n"
      ],
      "execution_count": null,
      "outputs": []
    },
    {
      "cell_type": "markdown",
      "metadata": {
        "id": "_Nruu_T0yS5S"
      },
      "source": [
        "# Setup the VNC server on your Jetson\n",
        "https://developer.nvidia.com/embedded/learn/tutorials/vnc-setup"
      ]
    },
    {
      "cell_type": "markdown",
      "metadata": {
        "id": "iQJKJZEN6DW9"
      },
      "source": [
        "You can follow the steps from the link above or alternatively, from a terminal in your Jetson, type in the following:"
      ]
    },
    {
      "cell_type": "code",
      "metadata": {
        "id": "4WKFG04DyQFA"
      },
      "source": [
        "# Enable your VNC server (Beware: this is for Jetson Nano 4Gb)\n",
        "cd /usr/lib/systemd/user/graphical-session.target.wants\n",
        "sudo ln -s ../vino-server.service ./.\n",
        "# Configure your VNC server\n",
        "gsettings set org.gnome.Vino prompt-enabled false\n",
        "gsettings set org.gnome.Vino require-encryption false\n",
        "# Setup a password (Do not forget to replace yourpassword)\n",
        "gsettings set org.gnome.Vino authentication-methods \"['vnc']\"\n",
        "gsettings set org.gnome.Vino vnc-password $(echo -n 'yourpassword'|base64)\n",
        "# Reboot for the changes to take effect\n",
        "sudo reboot"
      ],
      "execution_count": null,
      "outputs": []
    },
    {
      "cell_type": "markdown",
      "metadata": {
        "id": "8K7ndXeGB5dk"
      },
      "source": [
        "# Setup wifi through screen share \n",
        "##\n"
      ]
    },
    {
      "cell_type": "markdown",
      "metadata": {
        "id": "zaGRpvNi7hTZ"
      },
      "source": [
        "# Now, connect to Jetson from another device\n",
        "1. Enable wifi through ssh connection (if power cable works; otherwise you need to setup VNC server, enable Wifi with GUI)"
      ]
    },
    {
      "cell_type": "markdown",
      "metadata": {
        "id": "8eTdd1SgEEx6"
      },
      "source": [
        "If there is a problem with the wifi drivers:\n",
        "(https://forums.developer.nvidia.com/t/make-usb-wifi-dongle-rtl8812au-works-on-nano/74372)"
      ]
    },
    {
      "cell_type": "code",
      "metadata": {
        "id": "NziP-roaEN_m"
      },
      "source": [
        "\n",
        "sudo apt install git\n",
        "sudo apt install dkms\n",
        "git clone https://github.com/abperiasamy/rtl8812AU_8821AU_linux.git 163\n",
        "cd rtl8812AU_8821AU_linux\n",
        "sudo make -f Makefile.dkms install\n",
        "reboot the jetson-nano, your WiFi will be up now!\n",
        "Some useful command to check the status f driver and device:\n",
        "dkms status\n",
        "iw phy"
      ],
      "execution_count": null,
      "outputs": []
    },
    {
      "cell_type": "markdown",
      "metadata": {
        "id": "azsOoBPLF3Bl"
      },
      "source": [
        "Follow steps here:\n",
        "\n",
        "https://learn.sparkfun.com/tutorials/adding-wifi-to-the-nvidia-jetson/all\n",
        "\n",
        "https://learn.sparkfun.com/tutorials/adding-wifi-to-the-nvidia-jetson/all"
      ]
    },
    {
      "cell_type": "code",
      "metadata": {
        "id": "_2qR0Bj17lZS"
      },
      "source": [
        "# run iwconfig to see available wireless devices\n",
        "iwconfig\n",
        "# scan for networks\n",
        "sudo iwlist wlp4s0 scan | grep ESSID\n",
        "# if your wifi is 'softblocked' unblock it\n",
        "sudo rfkill unblock wifi (or sudo rfkill unblock all)\n",
        "# now enable your wifi\n",
        "sudo ipconfig wlan0 up\n",
        "# congigure wifi\n",
        "wpa_passphrase WIFI_NETWORK_NAME WIFI_PASSWORD | sudo tee /etc/wpa_supplicant.conf\n",
        "# or this: wpa_passphrase WIFI_NETWORK_NAME WIFI_PASSWORD Tt2NAE > /etc/wpa_supplicant/wpa_supplicant.conf \n",
        "\n",
        "# connect to wifi\n",
        "sudo wpa_supplicant -c /etc/wpa_supplicant.conf -i wlan0\n",
        "\n",
        "#reboot\n",
        "sudo reboot"
      ],
      "execution_count": null,
      "outputs": []
    }
  ]
}