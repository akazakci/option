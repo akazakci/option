{
  "nbformat": 4,
  "nbformat_minor": 0,
  "metadata": {
    "colab": {
      "name": "Setup_anaconda_on_Jetson_Nano.ipynb",
      "provenance": []
    },
    "kernelspec": {
      "name": "python3",
      "display_name": "Python 3"
    },
    "language_info": {
      "name": "python"
    }
  },
  "cells": [
    {
      "cell_type": "code",
      "metadata": {
        "colab": {
          "base_uri": "https://localhost:8080/",
          "height": 130
        },
        "id": "NTRe58WiujN_",
        "outputId": "3517bd33-f003-4f2d-a1b1-8ecf425c09e5"
      },
      "source": [
        "Sources:\n"
      ],
      "execution_count": 1,
      "outputs": [
        {
          "output_type": "error",
          "ename": "SyntaxError",
          "evalue": "ignored",
          "traceback": [
            "\u001b[0;36m  File \u001b[0;32m\"<ipython-input-1-591151d4e5b3>\"\u001b[0;36m, line \u001b[0;32m1\u001b[0m\n\u001b[0;31m    Sources:\u001b[0m\n\u001b[0m            ^\u001b[0m\n\u001b[0;31mSyntaxError\u001b[0m\u001b[0;31m:\u001b[0m invalid syntax\n"
          ]
        }
      ]
    },
    {
      "cell_type": "code",
      "metadata": {
        "id": "6rt3LuGKun92"
      },
      "source": [
        "sudo apt-get -y install python3-pip"
      ],
      "execution_count": 1,
      "outputs": []
    },
    {
      "cell_type": "code",
      "metadata": {
        "id": "Ceb1HN08urJ_"
      },
      "source": [
        "sudo apt-get -y install python3-pip\n"
      ],
      "execution_count": null,
      "outputs": []
    },
    {
      "cell_type": "markdown",
      "metadata": {
        "id": "fVbJNnm0uqDq"
      },
      "source": [
        "# Install anaconda"
      ]
    },
    {
      "cell_type": "code",
      "metadata": {
        "id": "KvqBxIecPKSW"
      },
      "source": [
        "wget https://repo.anaconda.com/archive/Anaconda3-2021.04-Linux-aarch64.sh"
      ],
      "execution_count": null,
      "outputs": []
    }
  ]
}