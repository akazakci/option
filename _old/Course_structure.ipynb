{
  "nbformat": 4,
  "nbformat_minor": 0,
  "metadata": {
    "colab": {
      "name": "Course_structure.ipynb",
      "provenance": []
    },
    "kernelspec": {
      "name": "python3",
      "display_name": "Python 3"
    },
    "language_info": {
      "name": "python"
    }
  },
  "cells": [
    {
      "cell_type": "markdown",
      "metadata": {
        "id": "YLe6dKcTkibG"
      },
      "source": [
        "## Inference using models \n",
        "1.   TensorFlow Object Detection API\n",
        "2.   Model Zoo\n",
        "3. Inference on still pictures using Google Colab\n"
      ]
    },
    {
      "cell_type": "markdown",
      "metadata": {
        "id": "RLYCl0bpb4KB"
      },
      "source": [
        "## Retraining an object detection model on Google Colab\n",
        "1. Required packages, install tasks and directory structure \n",
        "2. Setup TFOD on Google Colab\n",
        "3. Create a label map and TF record files for your dataset\n",
        "4. Configure and run the training task\n",
        "5. Monitor training through TensorBoard\n"
      ]
    },
    {
      "cell_type": "markdown",
      "metadata": {
        "id": "cdL31TDubMmM"
      },
      "source": [
        "## Setting up TFOD on Amazon AWS\n",
        "1. Creating an Amazon AWS account\n",
        "2. Choosing and launching a server\n",
        "3. Setting up TFOD on a distant server through terminal\n",
        "\n",
        "Notes to self: Do we setup an ssh notebook server? or do we create a script from previous task? or both?"
      ]
    },
    {
      "cell_type": "markdown",
      "metadata": {
        "id": "JG0L6SDUb1Wc"
      },
      "source": [
        "## Hands-on with a Jetson Nano device\n",
        "1. First boot: Do's and Dont's\n",
        "2. Enabling desktop sharing\n",
        "3. Setting up wifi\n",
        "4. Setting up a Notebook server on a remote Jetson\n"
      ]
    },
    {
      "cell_type": "markdown",
      "metadata": {
        "id": "sJXeRtJxf72U"
      },
      "source": [
        "## Jetson Nano inference on a camera stream \n",
        "1. Mounting the a container and running the inference\n",
        "2. Using your own model\n",
        "\n",
        "Notes to self: tflite, building Nvidia stuff from source, tf serving, tensorrt\n"
      ]
    },
    {
      "cell_type": "markdown",
      "metadata": {
        "id": "0-PdvJsIhKG3"
      },
      "source": [
        "## Creating a database\n",
        "1. Install simple-image-downloader\n",
        "2. Install Labelimg\n",
        "3. Labelling data"
      ]
    },
    {
      "cell_type": "code",
      "metadata": {
        "id": "iM0KPqvJiKaX"
      },
      "source": [
        ""
      ],
      "execution_count": null,
      "outputs": []
    },
    {
      "cell_type": "code",
      "metadata": {
        "id": "xn3Iamk4iKW5"
      },
      "source": [
        ""
      ],
      "execution_count": null,
      "outputs": []
    },
    {
      "cell_type": "code",
      "metadata": {
        "id": "WjNVo6rtiKT1"
      },
      "source": [
        ""
      ],
      "execution_count": null,
      "outputs": []
    },
    {
      "cell_type": "code",
      "metadata": {
        "id": "54UK17d_iKQR"
      },
      "source": [
        ""
      ],
      "execution_count": null,
      "outputs": []
    },
    {
      "cell_type": "markdown",
      "metadata": {
        "id": "kLJqJ3FPkj5s"
      },
      "source": [
        "# Update packages"
      ]
    },
    {
      "cell_type": "markdown",
      "metadata": {
        "id": "KDu_kV2ekn4G"
      },
      "source": [
        "!sudo apt-get update\n",
        "\n",
        "!sudo apt-get install git cmake libpython3-dev python3-numpy\n"
      ]
    },
    {
      "cell_type": "code",
      "metadata": {
        "id": "U8A351bndbH5"
      },
      "source": [
        "!sudo apt-get update\n",
        "!sudo apt-get install git cmake libpython3-dev python3-numpy\n",
        "!git clone --recursive https://github.com/dusty-nv/jetson-inference"
      ],
      "execution_count": null,
      "outputs": []
    },
    {
      "cell_type": "code",
      "metadata": {
        "id": "J2xc9TeYlKtY"
      },
      "source": [
        "1) Flash the micro-disk and power up the Jetson\n",
        "2) Use the HDMI monitor for the first time setup (TOS, account & password...)"
      ],
      "execution_count": null,
      "outputs": []
    }
  ]
}