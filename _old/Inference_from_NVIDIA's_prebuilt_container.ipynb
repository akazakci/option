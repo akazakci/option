{
  "nbformat": 4,
  "nbformat_minor": 0,
  "metadata": {
    "colab": {
      "name": "Inference_from_NVIDIA's_prebuilt_container.ipynb",
      "provenance": []
    },
    "kernelspec": {
      "name": "python3",
      "display_name": "Python 3"
    },
    "language_info": {
      "name": "python"
    },
    "accelerator": "GPU"
  },
  "cells": [
    {
      "cell_type": "code",
      "metadata": {
        "id": "6Kry4jnTF_sw"
      },
      "source": [
        "\n"
      ],
      "execution_count": null,
      "outputs": []
    },
    {
      "cell_type": "code",
      "metadata": {
        "id": "Srztv7FwLwC9"
      },
      "source": [
        "!sudo get update"
      ],
      "execution_count": null,
      "outputs": []
    },
    {
      "cell_type": "code",
      "metadata": {
        "id": "y6iBtWSlL6at"
      },
      "source": [
        "!sudo apt-get install cmake git libpython3-dev python3-numpy"
      ],
      "execution_count": null,
      "outputs": []
    },
    {
      "cell_type": "code",
      "metadata": {
        "id": "hnZ6p7P8MKyj"
      },
      "source": [
        "!git clone https://github.com/dusty-nv/jetson-inference"
      ],
      "execution_count": null,
      "outputs": []
    },
    {
      "cell_type": "code",
      "metadata": {
        "id": "ghAt5fifMuub"
      },
      "source": [
        "cd jetson-inference\n",
        "mkdir build\n",
        "cd build\n",
        "cmake ../\n",
        "# you may need to update git submodules for this operation to work"
      ],
      "execution_count": null,
      "outputs": []
    },
    {
      "cell_type": "code",
      "metadata": {
        "id": "f52pxjooOdaQ"
      },
      "source": [
        "Then, you will need to select models and start the download\n",
        " (put setup screen image here)"
      ],
      "execution_count": null,
      "outputs": []
    },
    {
      "cell_type": "code",
      "metadata": {
        "id": "mSM6rC8VOo66"
      },
      "source": [
        "#Then, run make to build the underlying c++ libraries and python bindings\n",
        "make\n",
        "sudo make install\n",
        "sudo ldconfig # bind the libraries: we have installed a great many libraries, ldconfig make sure to bind them properly\n"
      ],
      "execution_count": null,
      "outputs": []
    },
    {
      "cell_type": "code",
      "metadata": {
        "id": "7r4Q-WYqRP8p"
      },
      "source": [
        "#Put image of TensorRT here "
      ],
      "execution_count": null,
      "outputs": []
    },
    {
      "cell_type": "code",
      "metadata": {
        "id": "uk_38Oi3RPYT"
      },
      "source": [
        ""
      ],
      "execution_count": null,
      "outputs": []
    },
    {
      "cell_type": "markdown",
      "metadata": {
        "id": "oWV6locUVIPo"
      },
      "source": [
        "## One way we can use the Jetson-inference library is by executing directly the programs that come with it."
      ]
    },
    {
      "cell_type": "code",
      "metadata": {
        "id": "oWq7UFW5RP5F"
      },
      "source": [
        "# run detection program\n",
        "./detecnet-console.py ./images/ped_0.jpg output = output_0.jpg\n",
        "\n",
        "# copy output to your own machine for visualisation\n",
        "scp akin@nano:~/jetson-inference/build/aarch64/bin/output_0.jpg ."
      ],
      "execution_count": null,
      "outputs": []
    },
    {
      "cell_type": "markdown",
      "metadata": {
        "id": "Y0XQI3ZupJMl"
      },
      "source": [
        "# Inference on streaming video"
      ]
    },
    {
      "cell_type": "code",
      "metadata": {
        "id": "loS1KdOLJNH-"
      },
      "source": [
        "import jetson.inference\n",
        "import jetson.utils "
      ],
      "execution_count": null,
      "outputs": []
    },
    {
      "cell_type": "code",
      "metadata": {
        "id": "rCSBCyF_pVNb"
      },
      "source": [
        "net = jetson.inference.detectnet(\"ssd-mobilenet-v2\", threshold = 0.5)\n",
        "stream = jetson.utils.gstCamera(1280, 720, \"dev/video1\")\n",
        "display = jetson.utils.gsDisplay()\n",
        "\n",
        "while display.IsOpen():\n",
        "  img, width, height = stream.CaptureRGBA()\n",
        "  detections = net.Detect(img, width, height)\n",
        "  display.RenderOnce(img, widht, height)\n",
        " \n",
        "  #get performance\n",
        "  display.SetTitle(\"Streaming video detection : {:.0f} FPS\".format(net.GetNetworkFPS()))"
      ],
      "execution_count": null,
      "outputs": []
    },
    {
      "cell_type": "markdown",
      "metadata": {
        "id": "upn4Xdz3qoL4"
      },
      "source": [
        "**Exerice: Improve the previous code**\n",
        "- Here are some possible improvements:\n",
        "1. Modify the previous script to smooth the bounding box jiggle \n",
        "2. Make the inference start and stop based on the time of the day"
      ]
    },
    {
      "cell_type": "markdown",
      "metadata": {
        "id": "fFVYW4wBrIK8"
      },
      "source": [
        "**Exercice: Benchmark** \n",
        "\n",
        "Write a script to benchmark the accuracy and the speed of various models"
      ]
    },
    {
      "cell_type": "code",
      "metadata": {
        "id": "r4jS-js3rzPs"
      },
      "source": [
        ""
      ],
      "execution_count": null,
      "outputs": []
    }
  ]
}