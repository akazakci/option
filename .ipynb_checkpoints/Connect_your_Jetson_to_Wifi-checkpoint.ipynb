{
 "cells": [
  {
   "cell_type": "markdown",
   "metadata": {
    "id": "whcQqtSFkBLK"
   },
   "source": [
    "## Hands-on with a Jetson Nano device\n",
    "1. First boot: Do's and Dont's\n",
    "2. Enabling desktop sharing\n",
    "3. Setting up wifi\n",
    "4. Setting up a Notebook server on a remote Jetson\n"
   ]
  },
  {
   "cell_type": "markdown",
   "metadata": {
    "id": "35djKhsRkHMl"
   },
   "source": [
    "# Connect your device to a Wifi network\n"
   ]
  },
  {
   "cell_type": "markdown",
   "metadata": {},
   "source": [
    "You will be given an USB wifi dongle to use with your Jetson Nano Developper Kit. Depending on the specific dongle you use (and probably due to other factors as well) wifi connection might not work out of the bow (i.e. during initial setup).\n",
    "\n",
    "Through the terminal, repeat the following steps to establish connection."
   ]
  },
  {
   "cell_type": "code",
   "execution_count": 1,
   "metadata": {},
   "outputs": [
    {
     "ename": "SyntaxError",
     "evalue": "invalid syntax (<ipython-input-1-671064c471c8>, line 3)",
     "output_type": "error",
     "traceback": [
      "\u001b[0;36m  File \u001b[0;32m\"<ipython-input-1-671064c471c8>\"\u001b[0;36m, line \u001b[0;32m3\u001b[0m\n\u001b[0;31m    ifconfig wlan0\u001b[0m\n\u001b[0m             ^\u001b[0m\n\u001b[0;31mSyntaxError\u001b[0m\u001b[0;31m:\u001b[0m invalid syntax\n"
     ]
    }
   ],
   "source": [
    "# You might need to reboot your device several times and restart a new terminal window each time.\n",
    "# List all wlan devices\n",
    "ifconfig wlan0\n",
    "# Activate wifi on your device\n",
    "nmcli r wifi on\n",
    "# List available networks\n",
    "nmcli d wifi list\n",
    "# Connect to your network of choice (You might need a password and you might need to run the command as root user)\n",
    "sudo nmcli d wifi connect [Network_Name] password [Password]\n",
    "# Test your connection\n",
    "ping 8.8.8.8"
   ]
  },
  {
   "cell_type": "markdown",
   "metadata": {},
   "source": [
    "# Update your system\n",
    "Once the wifi connection is active, first thing to do is to update device libraries."
   ]
  },
  {
   "cell_type": "code",
   "execution_count": null,
   "metadata": {
    "id": "iqiFLfnWmkHi"
   },
   "outputs": [],
   "source": [
    "# Start by updating device libaries\n",
    "! sudo apt-get update\n",
    "# You can add \n",
    "! sudo apt-get install nano\n"
   ]
  },
  {
   "cell_type": "markdown",
   "metadata": {
    "id": "_Nruu_T0yS5S"
   },
   "source": [
    "# Setup the VNC server on your Jetson\n",
    "Although this step is not mandatory to follow the next steps, you might find it useful to setup a VNC server. \n",
    "https://developer.nvidia.com/embedded/learn/tutorials/vnc-setup\n",
    "\n",
    "A VNC server will allow you to access the GUI of your Jetson through your other computer(s). "
   ]
  },
  {
   "cell_type": "markdown",
   "metadata": {
    "id": "iQJKJZEN6DW9"
   },
   "source": [
    "You can follow the steps from the link above or alternatively, from a terminal in your Jetson, type in the following (Steps taken from [here](https://learn.sparkfun.com/tutorials/adding-wifi-to-the-nvidia-jetson/all).):"
   ]
  },
  {
   "cell_type": "code",
   "execution_count": null,
   "metadata": {
    "id": "4WKFG04DyQFA"
   },
   "outputs": [],
   "source": [
    "# Enable your VNC server (Beware: this is for Jetson Nano 4Gb)\n",
    "cd /usr/lib/systemd/user/graphical-session.target.wants\n",
    "sudo ln -s ../vino-server.service ./.\n",
    "# Configure your VNC server\n",
    "gsettings set org.gnome.Vino prompt-enabled false\n",
    "gsettings set org.gnome.Vino require-encryption false\n",
    "# Setup a password (Do not forget to replace yourpassword)\n",
    "gsettings set org.gnome.Vino authentication-methods \"['vnc']\"\n",
    "gsettings set org.gnome.Vino vnc-password $(echo -n 'yourpassword'|base64)\n",
    "# Reboot for the changes to take effect\n",
    "sudo reboot"
   ]
  },
  {
   "cell_type": "markdown",
   "metadata": {
    "id": "8K7ndXeGB5dk"
   },
   "source": [
    "Next, you need to use a screen sharing application (Screen share, Xquartz, etc).\n",
    "\n",
    "\n"
   ]
  },
  {
   "cell_type": "markdown",
   "metadata": {
    "id": "zaGRpvNi7hTZ"
   },
   "source": [
    "Enable wifi through ssh connection (if power cable works; otherwise you need to setup VNC server, enable Wifi with GUI)"
   ]
  },
  {
   "cell_type": "markdown",
   "metadata": {
    "id": "azsOoBPLF3Bl"
   },
   "source": []
  },
  {
   "cell_type": "markdown",
   "metadata": {
    "id": "8eTdd1SgEEx6"
   },
   "source": [
    "If there is a problem with the wifi drivers:\n",
    "(https://forums.developer.nvidia.com/t/make-usb-wifi-dongle-rtl8812au-works-on-nano/74372)"
   ]
  },
  {
   "cell_type": "code",
   "execution_count": null,
   "metadata": {
    "id": "NziP-roaEN_m"
   },
   "outputs": [],
   "source": [
    "#(Optional) If you were unable to use Headless setup but you have another monitor, \n",
    "# and you have trouble with you Wifi connection, you may try to install \n",
    "# the generic drivers for the Wifi dongle.\n",
    "sudo apt install git\n",
    "sudo apt install dkms\n",
    "git clone https://github.com/abperiasamy/rtl8812AU_8821AU_linux.git 163\n",
    "cd rtl8812AU_8821AU_linux\n",
    "sudo make -f Makefile.dkms install\n",
    "reboot the jetson-nano, your WiFi will be up now!\n",
    "Some useful command to check the status f driver and device:\n",
    "dkms status\n",
    "iw phy"
   ]
  }
 ],
 "metadata": {
  "colab": {
   "name": "Hands-on with a Jetson Nano device",
   "provenance": []
  },
  "kernelspec": {
   "display_name": "Python 3",
   "language": "python",
   "name": "python3"
  },
  "language_info": {
   "codemirror_mode": {
    "name": "ipython",
    "version": 3
   },
   "file_extension": ".py",
   "mimetype": "text/x-python",
   "name": "python",
   "nbconvert_exporter": "python",
   "pygments_lexer": "ipython3",
   "version": "3.8.3"
  }
 },
 "nbformat": 4,
 "nbformat_minor": 1
}
