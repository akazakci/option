{
 "cells": [
  {
   "cell_type": "markdown",
   "metadata": {},
   "source": []
  },
  {
   "cell_type": "markdown",
   "metadata": {},
   "source": [
    "Anaconda and various tools that comes with it (notably Jupyter Notebook and Jupyter Lab) have become daily tools for any data science endeavour. Yet, installing those standard tools to Jetson Nano is not straightforward at the moment.\n",
    "\n",
    "In this chapter, we will install Jupyter Lab and its required packages to the Jetson, and then, build an SSH tunnel to remotely connect to the Jetson and execute code through Jupyter Lab.\n"
   ]
  },
  {
   "cell_type": "code",
   "execution_count": null,
   "metadata": {},
   "outputs": [],
   "source": [
    "# Connect to your Jetson Nano through SSH and execute the following lines if not already done (from previous notebooks)\n",
    "sudo apt-get update\n",
    "sudo apt-get upgrade\n",
    "sudo reboot now\n",
    "\n",
    "# Not it is time to install some essential libraries \n",
    "sudo apt install build-essential libssl-dev libffi-dev python-dev\n",
    "sudo apt install -y libffi-dev\n",
    "sudo apt install -y libssl1.0-dev\n",
    "sudo apt-get install python3-pip\n",
    "pip3 install package_name\n",
    "pip3 install packaging\n",
    "sudo reboot now\n"
   ]
  },
  {
   "cell_type": "markdown",
   "metadata": {},
   "source": [
    "After experimenting with several packages (including, Miniconda and Archiconda), the only way we found to make this work was through the sole and direct installation of Jupyter Lab (alone).\n",
    "\n",
    "Before installing the Jupyter Lab and since we cannot use Anaconda's installer that does all of this for us, we need to install Node.js to Jetson manually. Jupyter needs Node.js and npm to display its graphical interface among other things."
   ]
  },
  {
   "cell_type": "code",
   "execution_count": null,
   "metadata": {},
   "outputs": [],
   "source": [
    "# Execute these commands on your Nano from the terminal (from your laptop, SSH into Nano and execute)\n",
    "# Download the Arm64 distribution for Nodejs (at the time of writing, v12.13.0 is the most current; change if needed)\n",
    "wget https://nodejs.org/dist/v12.13.0/node-v12.13.0-linux-arm64.tar.xz\n",
    "\n",
    "# Unzip\n",
    "tar -xJf node-v12.13.0-linux-arm64.tar.xz\n",
    "# Setup\n",
    "cd node-v12.13.0-linux-arm64\n",
    "\n",
    "# Copy current directory files to /usr/local\n",
    "sudo cp -R * /usr/local/\n",
    "\n",
    "# Test the versions\n",
    "node -v\n",
    "npm -v\n",
    "\n",
    "# It's a good time to reboot the Linux Tegra now\n",
    "sudo reboot now"
   ]
  },
  {
   "cell_type": "code",
   "execution_count": null,
   "metadata": {},
   "outputs": [],
   "source": []
  },
  {
   "cell_type": "code",
   "execution_count": null,
   "metadata": {},
   "outputs": [],
   "source": [
    "\n",
    "\n",
    "\n",
    "export PATH=\"$HOME/.local/bin:$PATH\"\n",
    "pip3 install --user jupyterlab\n",
    "sudo reboot now\n",
    "\n",
    "jupyter notebook --generate-config\n",
    "jupyter notebook password\n",
    "\n",
    "sudo pip3 install Cython\n",
    "jupyter labextension install @jupyter-widgets/jupyterlab-manager\n",
    "pip3 install ipywidgets\n",
    "jupyter nbextension enable --py widgetsnbextension\n",
    "pip3 install ipywebrtc     \n",
    "jupyter labextension install jupyter-webrtc\n",
    "pip3 install ipyleaflet\n",
    "jupyter labextension install @jupyter-widgets/jupyterlab-manager jupyter-leaflet\n",
    "pip3 install bqplot\n",
    "jupyter labextension install bqplot\n",
    "\n",
    "# Remove Unecessary Software & Change Swap\n",
    "# https://medium.com/swlh/the-newbie-guide-to-setting-up-a-jetson-nano-on-jp4-4-230449346258\n",
    "\n",
    "sudo fallocate -l 8G /mnt/8GB.swap\n",
    "sudo chmod 600 /mnt/8GB.swap\n",
    "sudo mkswap /mnt/8GB.swap\n",
    "\n",
    "\n",
    "\n",
    "\n",
    "pip3 install jupyter"
   ]
  },
  {
   "cell_type": "markdown",
   "metadata": {},
   "source": [
    "# List available cameras"
   ]
  },
  {
   "cell_type": "code",
   "execution_count": null,
   "metadata": {},
   "outputs": [],
   "source": []
  },
  {
   "cell_type": "markdown",
   "metadata": {},
   "source": []
  },
  {
   "cell_type": "code",
   "execution_count": null,
   "metadata": {},
   "outputs": [],
   "source": [
    "# From the terminal\n",
    "git clone https://github.com/NVIDIA-AI-IOT/jetcam\n",
    "cd jetcam\n",
    "sudo python3 setup.py install"
   ]
  },
  {
   "cell_type": "code",
   "execution_count": null,
   "metadata": {},
   "outputs": [],
   "source": []
  },
  {
   "cell_type": "code",
   "execution_count": null,
   "metadata": {},
   "outputs": [],
   "source": []
  },
  {
   "cell_type": "code",
   "execution_count": null,
   "metadata": {},
   "outputs": [],
   "source": []
  },
  {
   "cell_type": "code",
   "execution_count": null,
   "metadata": {},
   "outputs": [],
   "source": []
  },
  {
   "cell_type": "code",
   "execution_count": null,
   "metadata": {},
   "outputs": [],
   "source": []
  },
  {
   "cell_type": "code",
   "execution_count": null,
   "metadata": {},
   "outputs": [],
   "source": [
    "from jetcam.csi_camera import CSICamera\n",
    "camera = CSICamera(width=224, height=224)\n",
    "image = camera.read()"
   ]
  },
  {
   "cell_type": "code",
   "execution_count": null,
   "metadata": {},
   "outputs": [],
   "source": []
  },
  {
   "cell_type": "code",
   "execution_count": null,
   "metadata": {},
   "outputs": [],
   "source": []
  }
 ],
 "metadata": {
  "kernelspec": {
   "display_name": "Python 3",
   "language": "python",
   "name": "python3"
  },
  "language_info": {
   "codemirror_mode": {
    "name": "ipython",
    "version": 3
   },
   "file_extension": ".py",
   "mimetype": "text/x-python",
   "name": "python",
   "nbconvert_exporter": "python",
   "pygments_lexer": "ipython3",
   "version": "3.8.3"
  }
 },
 "nbformat": 4,
 "nbformat_minor": 4
}
