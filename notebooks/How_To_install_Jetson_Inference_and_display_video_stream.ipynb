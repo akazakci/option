{
  "nbformat": 4,
  "nbformat_minor": 0,
  "metadata": {
    "colab": {
      "name": "How To install Jetson Inference and display video stream.ipynb",
      "provenance": []
    },
    "kernelspec": {
      "name": "python3",
      "display_name": "Python 3"
    },
    "language_info": {
      "name": "python"
    }
  },
  "cells": [
    {
      "cell_type": "markdown",
      "metadata": {
        "id": "QWDUhZ-h4erq"
      },
      "source": [
        "Install Git and Cmake"
      ]
    },
    {
      "cell_type": "code",
      "metadata": {
        "id": "6CSmUrBL90c7"
      },
      "source": [
        "sudo apt-get update\n",
        "sudo apt-get install git cmake"
      ],
      "execution_count": null,
      "outputs": []
    },
    {
      "cell_type": "markdown",
      "metadata": {
        "id": "hu3sx0aT97Tz"
      },
      "source": [
        "Clone jetson-inference project"
      ]
    },
    {
      "cell_type": "code",
      "metadata": {
        "id": "yQbVHSPP-1TN"
      },
      "source": [
        "git clone https://github.com/dusty-nv/jetson-inference --recursive\n",
        "cd jetson-inference"
      ],
      "execution_count": null,
      "outputs": []
    },
    {
      "cell_type": "markdown",
      "metadata": {
        "id": "U6_L3l01_D4V"
      },
      "source": [
        "Install some required packages for building"
      ]
    },
    {
      "cell_type": "code",
      "metadata": {
        "id": "c3dLsbMa_gcv"
      },
      "source": [
        "sudo apt-get install libpython3-dev python3-numpy"
      ],
      "execution_count": null,
      "outputs": []
    },
    {
      "cell_type": "markdown",
      "metadata": {
        "id": "rtmrL-Fo_rgf"
      },
      "source": [
        "Configure CMake"
      ]
    },
    {
      "cell_type": "code",
      "metadata": {
        "id": "FgrTQgg0_6Na"
      },
      "source": [
        "cd jetson-inference    # omit if working directory is already jetson-inference/ from above\n",
        "mkdir build\n",
        "cd build\n",
        "cmake ../"
      ],
      "execution_count": null,
      "outputs": []
    },
    {
      "cell_type": "markdown",
      "metadata": {
        "id": "gGQwthnEArbC"
      },
      "source": [
        "Compile the project"
      ]
    },
    {
      "cell_type": "code",
      "metadata": {
        "id": "7WCp4nNXAyFp"
      },
      "source": [
        "cd jetson-inference/build          # omit if working directory is already build/ from above\n",
        "make\n",
        "sudo make install\n",
        "sudo ldconfig"
      ],
      "execution_count": null,
      "outputs": []
    },
    {
      "cell_type": "markdown",
      "metadata": {
        "id": "I8GZfInIE_Fd"
      },
      "source": [
        "# Launch detections"
      ]
    },
    {
      "cell_type": "markdown",
      "metadata": {
        "id": "Vgyw7UsJBIbl"
      },
      "source": [
        "Connect the jetson to local network (your remote computer should be in the same network). jetson-inference comes with examples to make inferences. detectnet.py detects objects in images or stream of images. To detect objects from camera stream, connect your camera to jetson and run this command."
      ]
    },
    {
      "cell_type": "code",
      "metadata": {
        "id": "T07IF7qGBU3S"
      },
      "source": [
        "cd jetson-inference/python/examples\n",
        "python ./detectnet.py /dev/video0 rtp://remote_address:1234 --output-codec=h264\n",
        "#remote_address: address of the remote computer\n",
        "#1234: port number, you can choose another one\n",
        "#/dev/video0: id of the camera"
      ],
      "execution_count": null,
      "outputs": []
    },
    {
      "cell_type": "markdown",
      "metadata": {
        "id": "t-B2MK_KETkz"
      },
      "source": [
        "To read the stream from remote computer, launch this command from your remote computer. You need gstreamer and h264 decoder installed on your computer (verified on Ubuntu and Mac)."
      ]
    },
    {
      "cell_type": "code",
      "metadata": {
        "id": "SK2FL91rEhLW"
      },
      "source": [
        "#use the same port\n",
        "gst-launch-1.0 -v udpsrc port=1234 caps = \"application/x-rtp, media=(string)video, clock-rate=(int)90000, encoding-name=(string)H264, payload=(int)96\" !  rtph264depay ! decodebin ! videoconvert ! autovideosink"
      ],
      "execution_count": null,
      "outputs": []
    }
  ]
}