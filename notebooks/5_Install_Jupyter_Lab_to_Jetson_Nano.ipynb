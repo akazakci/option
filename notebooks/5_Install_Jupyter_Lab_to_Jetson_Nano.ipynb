{
 "cells": [
  {
   "cell_type": "markdown",
   "metadata": {},
   "source": [
    "# Using Jupyter Lab on Jetson Nano through an SSH connection"
   ]
  },
  {
   "cell_type": "markdown",
   "metadata": {},
   "source": [
    "_This notebook is part of the series for the Edge Computing and Computer Vision module on Digital Engineering of Complex Systems at [MINES ParisTech](www.mines-paristech.fr). See course information material at [https://github.com/akazakci/option](https://github.com/akazakci/option)._"
   ]
  },
  {
   "cell_type": "markdown",
   "metadata": {},
   "source": [
    "Anaconda and various tools that comes with it (notably Jupyter Notebook and Jupyter Lab) have become daily tools for any data science endeavour. Yet, installing those standard tools to Jetson Nano is not straightforward at the moment.\n",
    "\n",
    "In this chapter, we will install Jupyter Lab and its required packages to the Jetson, and then, build an SSH tunnel to remotely connect to the Jetson and execute code through Jupyter Lab.\n"
   ]
  },
  {
   "cell_type": "code",
   "execution_count": null,
   "metadata": {},
   "outputs": [],
   "source": [
    "# Connect to your Jetson Nano through SSH and execute the following lines if not already done (from previous notebooks)\n",
    "sudo apt-get update\n",
    "sudo apt-get upgrade\n",
    "sudo reboot now\n",
    "\n",
    "# Not it is time to install some essential libraries \n",
    "sudo apt install build-essential libssl-dev libffi-dev python-dev\n",
    "sudo apt install -y libffi-dev\n",
    "sudo apt install -y libssl1.0-dev\n",
    "sudo apt-get install python3-pip\n",
    "pip3 install package_name\n",
    "pip3 install packaging\n",
    "sudo reboot now\n"
   ]
  },
  {
   "cell_type": "markdown",
   "metadata": {},
   "source": [
    "After experimenting with several packages (including, Miniconda and Archiconda), the only way we found to make this work was through the sole and direct installation of Jupyter Lab (alone).\n",
    "\n",
    "Before installing the Jupyter Lab and since we cannot use Anaconda's installer that does all of this for us, we need to install Node.js to Jetson manually. Jupyter needs Node.js and npm to display its graphical interface among other things."
   ]
  },
  {
   "cell_type": "code",
   "execution_count": null,
   "metadata": {},
   "outputs": [],
   "source": [
    "# Execute these commands on your Nano from the terminal (from your laptop, SSH into Nano and execute)\n",
    "# Download the Arm64 distribution for Nodejs (at the time of writing, v12.13.0 is the most current; change if needed)\n",
    "wget https://nodejs.org/dist/v12.13.0/node-v12.13.0-linux-arm64.tar.xz\n",
    "\n",
    "# Unzip\n",
    "tar -xJf node-v12.13.0-linux-arm64.tar.xz\n",
    "# Setup\n",
    "cd node-v12.13.0-linux-arm64\n",
    "\n",
    "# Copy current directory files to /usr/local\n",
    "sudo cp -R * /usr/local/\n",
    "\n",
    "# Test the versions\n",
    "node -v\n",
    "npm -v\n",
    "\n",
    "# It's a good time to reboot the Linux Tegra now\n",
    "sudo reboot now"
   ]
  },
  {
   "cell_type": "markdown",
   "metadata": {},
   "source": [
    "We will first install the Jupyter Lab."
   ]
  },
  {
   "cell_type": "code",
   "execution_count": null,
   "metadata": {},
   "outputs": [],
   "source": [
    "# We will install Jupyter at the user level. We need to add user level local /bin to the Path.\n",
    "export PATH=\"$HOME/.local/bin:$PATH\"\n",
    "# Then install through pip3 (default Python with Tegra is version 2. So, installing with pip3 is important)\n",
    "pip3 install --user jupyterlab\n",
    "#reboot\n",
    "sudo reboot now"
   ]
  },
  {
   "cell_type": "markdown",
   "metadata": {},
   "source": [
    "Then, we need to generate a configuration file."
   ]
  },
  {
   "cell_type": "code",
   "execution_count": null,
   "metadata": {},
   "outputs": [],
   "source": [
    "jupyter notebook --generate-config\n",
    "jupyter notebook password"
   ]
  },
  {
   "cell_type": "markdown",
   "metadata": {},
   "source": [
    "We are now ready to add some more libraries that Jupyter will need to manage widgets and camera stream. It is advised to execute each line one by one: The installation of some of the packages might hang for long time. Also, you may need to restart and reboot the Nano several times before each step is complete."
   ]
  },
  {
   "cell_type": "code",
   "execution_count": null,
   "metadata": {},
   "outputs": [],
   "source": [
    "sudo pip3 install Cython\n",
    "jupyter labextension install @jupyter-widgets/jupyterlab-manager\n",
    "pip3 install ipywidgets\n",
    "jupyter nbextension enable --py widgetsnbextension\n",
    "pip3 install ipywebrtc     \n",
    "jupyter labextension install jupyter-webrtc\n",
    "pip3 install ipyleaflet\n",
    "jupyter labextension install @jupyter-widgets/jupyterlab-manager jupyter-leaflet\n",
    "pip3 install bqplot\n",
    "jupyter labextension install bqplot"
   ]
  },
  {
   "cell_type": "markdown",
   "metadata": {},
   "source": [
    "We can test the installation now. Through the terminal execute the following on the Nano."
   ]
  },
  {
   "cell_type": "code",
   "execution_count": null,
   "metadata": {},
   "outputs": [],
   "source": [
    "jupyter lab"
   ]
  },
  {
   "cell_type": "markdown",
   "metadata": {},
   "source": [
    "If this works, you are now ready to build an SSH tunnel to the Jetson Nano from your laptop and start using Jupyter Lab remotely. "
   ]
  },
  {
   "cell_type": "code",
   "execution_count": null,
   "metadata": {},
   "outputs": [],
   "source": [
    "# Replace user_name and device_name appropriately. You have defined those two parameters when setting up Jetson Nano.\n",
    "# run from terminal\n",
    "ssh -L 8000:localhost:8888 user_name@device_name"
   ]
  },
  {
   "cell_type": "markdown",
   "metadata": {},
   "source": [
    "You can now open a browser tab on your computer and go to localhost:8888 to use Jupyter Lab."
   ]
  },
  {
   "cell_type": "markdown",
   "metadata": {},
   "source": [
    "The good news is that, from now on, you will be able to execute terminal commands on the Jetson nano by using ! from a Jupyter cell (so, less work from the terminal) "
   ]
  },
  {
   "cell_type": "markdown",
   "metadata": {},
   "source": [
    "## Resources:\n",
    "- [Running a remote Jupyter server](https://docs.anaconda.com/anaconda/user-guide/tasks/remote-jupyter-notebook/)\n",
    "- [Tutorial by Ian Day](https://medium.com/swlh/the-newbie-guide-to-setting-up-a-jetson-nano-on-jp4-4-230449346258)\n",
    "- [Tutorial by Yunus Muhammad](https://yunusmuhammad007.medium.com/install-run-jupyter-lab-on-jetson-tk1-as-a-remote-machine-c4611a775f93)"
   ]
  }
 ],
 "metadata": {
  "kernelspec": {
   "display_name": "Python 3",
   "language": "python",
   "name": "python3"
  },
  "language_info": {
   "codemirror_mode": {
    "name": "ipython",
    "version": 3
   },
   "file_extension": ".py",
   "mimetype": "text/x-python",
   "name": "python",
   "nbconvert_exporter": "python",
   "pygments_lexer": "ipython3",
   "version": "3.8.3"
  }
 },
 "nbformat": 4,
 "nbformat_minor": 4
}
