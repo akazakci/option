{
 "cells": [
  {
   "cell_type": "markdown",
   "metadata": {
    "id": "whcQqtSFkBLK"
   },
   "source": [
    "## Hands-on with a Jetson Nano device\n",
    "1. First boot: Do's and Dont's\n",
    "2. Enabling desktop sharing\n",
    "3. Setting up wifi\n",
    "4. Setting up a Notebook server on a remote Jetson\n"
   ]
  },
  {
   "cell_type": "markdown",
   "metadata": {
    "id": "-YEekEYNoF3y"
   },
   "source": [
    "# Documentation and resources\n",
    "\n",
    "Official documentation\n",
    "NVIDIA AI Certification\n",
    "Dusty\n",
    "Youtube \n",
    "\n",
    "**Beware:** \n",
    "\n",
    "Be extremely careful when handling the device as it becomes hot when running (especially, when executing a GPU or CPU intensive task such as training)."
   ]
  },
  {
   "cell_type": "markdown",
   "metadata": {
    "id": "Cgme-Mynm5-v"
   },
   "source": [
    "# Some general remarks about the setup\n",
    "Jetson Nano is a \"cutting edge\" technology - which means some features lack stability. Bear in mind that the documentation might be insufficient and the described resolutions might not work in your specific configurations.\n",
    "\n",
    "Also, you need to master a whole bunch of different skills to be able deal with any problems that might arise. Currently, this constitutes a barrier to entry.\n",
    "\n",
    "The good news is that all of this is changing very quickly as fixes to common problems, updates to documentation and outside sources (e.g. blog posts, tutorials and Youtube videos) appear almost every day."
   ]
  },
  {
   "cell_type": "markdown",
   "metadata": {},
   "source": [
    "# Headless setup\n",
    "There are two ways to setup a Jetson Nano device. Using a graphical display (monitor) or using your own laptop (and without directly plugging a display monitor to the device itself.) \n",
    "\n",
    "Since this will be the most commonn case, we shall be using it. This is called \"Headless\" setup. Instead of a graphical user interface, we will be using the command interface (e.g. Terminal).\n",
    "\n",
    "We shall follow below the instructions provided by [Nvidia](https://developer.nvidia.com/embedded/learn/get-started-jetson-nano-devkit#setup-headless)"
   ]
  },
  {
   "cell_type": "markdown",
   "metadata": {},
   "source": [
    "# 1) Download the Nvidia Jetpack\n",
    "Jetson Nano comes with a verion of Linux called Tegra. That is a specific (and limited/smaller) version of Linux Ubuntu. Jetpack is a piece of softare provided Nvidia to set up the Jetson Nano. \n",
    "\n",
    "Go ahead and download Jetpack here.\n",
    "\n",
    "Mind that there are two versions (for 4Gb and for 2Gb). We shall be using 4Gb since our Jetsons have 4Gb memories."
   ]
  },
  {
   "cell_type": "markdown",
   "metadata": {
    "id": "w0eCaovwkG88"
   },
   "source": [
    "# 2) Flash the micro disk using Balena Etcher\n",
    "Go to https://www.balena.io/etcher/ and download Etcher. Then, flash the disk: This means Balena Etcher will write Jetpack contents to the microSD card provided with the kit. \n",
    " <div> <img src=\"images/etcherWeb.png\" width = 700px></div>\n",
    "\n",
    "PS: Note that the microSD card normally comes with the Jetpack already written on it. Though, it is useful to know how to use Etcher; it is suggested to spend some time on the Etcher website and browse various community projects."
   ]
  },
  {
   "cell_type": "markdown",
   "metadata": {
    "id": "2r1BReubkHGZ"
   },
   "source": [
    "\n",
    "**Beware:** \n",
    " \n",
    "Jetson Nano developper kit is a sensitive electronic device that requries some protection. To avoid damaging the device through electrostatic issues, use it on its cardboard. "
   ]
  },
  {
   "cell_type": "markdown",
   "metadata": {},
   "source": [
    "# 3) Insert the disk and boot the device\n",
    "\n",
    "Insert the disk to the back of the Jetson Nano board. Make sure you hear a 'click'.\n",
    "\n",
    "Jetson Nano can be powered both by the Micro-USB cable and the power supply. However, in order the power supply to work you need to use the 'Jumper'.\n",
    "\n",
    "This is especially important for the headless mode where you need the Micro-USB to connect to the device itself (hence, for data transfer).\n",
    "\n",
    "At this point, you should connect your laptop computer to the developer kit’s Micro-USB port using a Micro-USB cable. Mind that you should use a cable with data transfer capabilities (otherwise it will power the Jetson up but it won't be able to connect to it: the headless setup will fail).\n",
    "\n",
    "You should then connect a DC power supply to Jetson Nano to the the 'J25 Power Jack'. You do not need to understand those terms to find its place on the board; it is the only socket that is compatible with the power supply cable that comes with the board. \n",
    "\n",
    "The developer kit will then power on. Allow about 1 minute for the developer kit to boot."
   ]
  },
  {
   "cell_type": "markdown",
   "metadata": {
    "id": "gL7fICkMkHJk"
   },
   "source": [
    "# Setup with a monitor attached vs setup without a monitor (headless mode)\n",
    "\n",
    "\n",
    "1. **Headless mode** When setting it up through Headless mode, you need both the charger (for energy) and the micro-USB cable (for data transfer). \n",
    "2. **Display attached** When setting up the device, you can attach a monitor through HDMI connection. In this case, you can power up the device by micro-USB cable as you will not be using the micro-USB port for data transfer."
   ]
  },
  {
   "cell_type": "markdown",
   "metadata": {},
   "source": [
    "# 4) Connect to your device through serial port\n",
    "Next steps depend on your operating system. NVidia's documentation gives the commands necessary for connection for common operating systems. \n",
    "\n",
    "We will transcribe here the steps for Mac OS:\n"
   ]
  },
  {
   "cell_type": "code",
   "execution_count": 3,
   "metadata": {},
   "outputs": [
    {
     "name": "stdout",
     "output_type": "stream",
     "text": [
      "zsh:1: no matches found: /dev/cu.usbmodem*\n",
      "Password:\n"
     ]
    }
   ],
   "source": [
    "# Type through a Mac OS terminal (without the \"!\").\n",
    "\n",
    "# First, list devices:\n",
    "!ls /dev/cu.usbmodem*\n",
    "\n",
    "#In my case, this returns: /dev/cu.usbmodem1413321053\n",
    "\n",
    "# Then, use the Screen command:\n",
    "!sudo screen /dev/cu.usbmodem1413321053 115200\n",
    "\n",
    "#This will ask for your system password, then a setup screen\n",
    "# will be displayed (hit SPACE if this is not the case)\n",
    "# You might need to reboot your Nano and repeat the above steps\n",
    "# on a new terminal"
   ]
  }
 ],
 "metadata": {
  "colab": {
   "name": "Hands-on with a Jetson Nano device",
   "provenance": []
  },
  "kernelspec": {
   "display_name": "Python 3",
   "language": "python",
   "name": "python3"
  },
  "language_info": {
   "codemirror_mode": {
    "name": "ipython",
    "version": 3
   },
   "file_extension": ".py",
   "mimetype": "text/x-python",
   "name": "python",
   "nbconvert_exporter": "python",
   "pygments_lexer": "ipython3",
   "version": "3.8.3"
  }
 },
 "nbformat": 4,
 "nbformat_minor": 1
}
