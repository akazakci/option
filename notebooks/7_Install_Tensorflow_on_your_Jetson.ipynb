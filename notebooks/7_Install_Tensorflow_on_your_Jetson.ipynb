{
 "cells": [
  {
   "cell_type": "markdown",
   "metadata": {},
   "source": [
    "# Install Tensorflow on Jetson"
   ]
  },
  {
   "cell_type": "markdown",
   "metadata": {},
   "source": [
    "_This notebook is part of the series for the Edge Computing and Computer Vision module on Digital Engineering of Complex Systems at [MINES ParisTech](www.mines-paristech.fr). See course information material at [https://github.com/akazakci/option](https://github.com/akazakci/option)._"
   ]
  },
  {
   "cell_type": "markdown",
   "metadata": {},
   "source": [
    "Two options to run the code below:\n",
    "- You can run the below code from Jupyter Lab you installed on your Jetson Nano in the previous chapter (See 5_Install_Jupyter_Lab_on_Jetson_Nano). In this case, you should start Jupyter Lab server on your Jetson (run <code> jupyter lab</code> from Jetson's command line), then, establish the SS tunnel as <code>ssh -L 8000:localhost:8888 user_name@device_name</code>. Then, on your own computer go to localhost:8000 from your browser. You can now upload this notebook to your Jetson, using Jupyter Lab and run it.\n",
    "- Alternatively, you can SSH to your Jetson and simply run the commands from terminal.\n",
    "\n",
    "We will assume you run the code through Jupyter Lab on Jetson."
   ]
  },
  {
   "cell_type": "markdown",
   "metadata": {},
   "source": [
    "# Install Tensorflow"
   ]
  },
  {
   "cell_type": "markdown",
   "metadata": {},
   "source": [
    "See here for [Nvidia's Official documentation to install the right version of TensorFlow on Jetson](https://docs.nvidia.com/deeplearning/frameworks/install-tf-jetson-platform/index.html)\n",
    "Commands & steps are below."
   ]
  },
  {
   "cell_type": "markdown",
   "metadata": {},
   "source": [
    "## Install required packages"
   ]
  },
  {
   "cell_type": "code",
   "execution_count": null,
   "metadata": {},
   "outputs": [],
   "source": [
    "!sudo apt-get update\n",
    "!sudo apt-get install libhdf5-serial-dev \\\n",
    "    hdf5-tools libhdf5-dev zlib1g-dev zip libjpeg8-dev liblapack-dev libblas-dev gfortran"
   ]
  },
  {
   "cell_type": "code",
   "execution_count": null,
   "metadata": {},
   "outputs": [],
   "source": [
    "!sudo apt-get install python3-pip\n",
    "!sudo pip3 install -U pip testresources setuptools==49.6.0 "
   ]
  },
  {
   "cell_type": "code",
   "execution_count": null,
   "metadata": {},
   "outputs": [],
   "source": [
    "!sudo pip3 install -U --no-deps numpy==1.19.4 future==0.18.2 mock==3.0.5 \\\n",
    "    keras_preprocessing==1.1.2 keras_applications==1.0.8 gast==0.4.0 futures protobuf pybind11 cython pkgconfig\n",
    "!sudo env H5PY_SETUP_REQUIRES=0 pip3 install -U h5py==3.1.0"
   ]
  },
  {
   "cell_type": "markdown",
   "metadata": {},
   "source": [
    "## Now, install Tensorflow"
   ]
  },
  {
   "cell_type": "markdown",
   "metadata": {},
   "source": [
    "**This step requires you verify which version of Jetpack you have installed on your Jetson.**"
   ]
  },
  {
   "cell_type": "code",
   "execution_count": null,
   "metadata": {},
   "outputs": [],
   "source": [
    "JP_VERSIOn = '46' # assuming our jetpack version is 4.6\n",
    "!sudo pip3 install --extra-index-url https://developer.download.nvidia.com/compute/redist/jp/v$JP_VERSION tensorflow"
   ]
  },
  {
   "cell_type": "markdown",
   "metadata": {},
   "source": [
    "# Build protobuf"
   ]
  },
  {
   "cell_type": "code",
   "execution_count": null,
   "metadata": {},
   "outputs": [],
   "source": []
  },
  {
   "cell_type": "code",
   "execution_count": null,
   "metadata": {},
   "outputs": [],
   "source": []
  }
 ],
 "metadata": {
  "kernelspec": {
   "display_name": "Python 3",
   "language": "python",
   "name": "python3"
  },
  "language_info": {
   "codemirror_mode": {
    "name": "ipython",
    "version": 3
   },
   "file_extension": ".py",
   "mimetype": "text/x-python",
   "name": "python",
   "nbconvert_exporter": "python",
   "pygments_lexer": "ipython3",
   "version": "3.8.3"
  }
 },
 "nbformat": 4,
 "nbformat_minor": 4
}
